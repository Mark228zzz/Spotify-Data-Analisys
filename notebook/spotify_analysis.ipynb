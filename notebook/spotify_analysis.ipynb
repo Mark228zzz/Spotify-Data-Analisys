{
 "cells": [
  {
   "cell_type": "markdown",
   "id": "70210ba0",
   "metadata": {},
   "source": [
    "# 🎧 Spotify User Segmentation & Premium Prediction"
   ]
  },
  {
   "cell_type": "markdown",
   "id": "de9b100a",
   "metadata": {},
   "source": [
    "## 📊 Section Titles\n",
    "\n",
    "- [`## 1. 📦 Import All Requirements`](#1--import-all-requirements)\n",
    "\n",
    "- [`## 2. 🗃️ Get & Read the Dataset`](#2-️-get-and-read-the-dataset)\n",
    "\n",
    "- [`## 3. 📝 Basic Overview`](#3--basic-overview)\n",
    "\n",
    "- [`## 4. 🚫 Missing Values`](#4--missing-values)\n",
    "\n",
    "- [`## 5. 💡 Explore Interesting Data Insights`](#5--explore-interesting-data-insights)\n",
    "\n",
    "- [`## 6. 📊 Show Key Distributions`](#6--show-key-distributions)\n",
    "\n",
    "- [`## 7. 🔗 Find Correlations`](#7--find-correlations)\n",
    "\n",
    "- [`## 8. 🔎 Spotting Outliers`](#8--spotting-outliers)\n",
    "\n",
    "- [`## 9. 🧩 User Segmentation Using K-Means`](#9--user-segmentation-using-k-means)\n",
    "\n",
    "- [`## 10. 🤖 Using ML to Predict User Subscribtion Willingness`](#10--using-ml-to-predict-user-subscribtion-willingness)"
   ]
  },
  {
   "cell_type": "markdown",
   "id": "159e110d",
   "metadata": {},
   "source": [
    "## 1. 📦 Import All Requirements"
   ]
  },
  {
   "cell_type": "code",
   "execution_count": null,
   "id": "db214dd2",
   "metadata": {},
   "outputs": [],
   "source": [
    "import pandas as pd\n",
    "import matplotlib.pyplot as plt\n",
    "import seaborn as sns\n",
    "from sklearn.preprocessing import LabelEncoder\n",
    "from sklearn.cluster import KMeans\n",
    "from sklearn.manifold import TSNE\n",
    "from sklearn.model_selection import train_test_split\n",
    "from sklearn.linear_model import LogisticRegression\n",
    "from sklearn.tree import DecisionTreeClassifier, plot_tree, export_text\n",
    "from sklearn.metrics import classification_report\n",
    "from imblearn.over_sampling import SMOTE"
   ]
  },
  {
   "cell_type": "markdown",
   "id": "fd4e3e8c",
   "metadata": {},
   "source": [
    "## 2. 🗃️ Get and Read the Dataset"
   ]
  },
  {
   "cell_type": "code",
   "execution_count": null,
   "id": "3d033664",
   "metadata": {},
   "outputs": [],
   "source": [
    "data = pd.read_excel('../data/spotify_data.xlsx')\n",
    "\n",
    "print(data.shape)\n",
    "data.head(8)"
   ]
  },
  {
   "cell_type": "code",
   "execution_count": null,
   "id": "cf481704",
   "metadata": {},
   "outputs": [],
   "source": [
    "data.info()"
   ]
  },
  {
   "cell_type": "markdown",
   "id": "6945c46c",
   "metadata": {},
   "source": [
    "## 3. 📝 Basic Overview"
   ]
  },
  {
   "cell_type": "code",
   "execution_count": null,
   "id": "202de09c",
   "metadata": {},
   "outputs": [],
   "source": [
    "# Basic overview\n",
    "data.describe(include='all')"
   ]
  },
  {
   "cell_type": "markdown",
   "id": "dd0e9ea9",
   "metadata": {},
   "source": [
    "## 4. 🚫 Missing Values"
   ]
  },
  {
   "cell_type": "code",
   "execution_count": null,
   "id": "39a9cbf8",
   "metadata": {},
   "outputs": [],
   "source": [
    "# Check for missing values\n",
    "data.isnull().sum().sort_values(ascending=False)"
   ]
  },
  {
   "cell_type": "markdown",
   "id": "fbfdc0d2",
   "metadata": {},
   "source": [
    "## 5. 💡 Explore Interesting Data Insights"
   ]
  },
  {
   "cell_type": "markdown",
   "id": "99caa4e8",
   "metadata": {},
   "source": [
    "### How many people are using the Free vs Premium plan?"
   ]
  },
  {
   "cell_type": "code",
   "execution_count": null,
   "id": "33cd5a3c",
   "metadata": {},
   "outputs": [],
   "source": [
    "# Number people\n",
    "print('Count:\\n', data['spotify_subscription_plan'].value_counts())\n",
    "\n",
    "print('\\n')\n",
    "\n",
    "# Percentage\n",
    "print('Percentage:\\n', data['spotify_subscription_plan'].value_counts(normalize=True).mul(100).round(2).astype(str) + '%')\n",
    "\n",
    "data['spotify_subscription_plan'].value_counts().plot(\n",
    "    kind='pie',\n",
    "    ylabel='',\n",
    "    autopct='%1.1f%%',\n",
    "    shadow=True,\n",
    "    legend=False,\n",
    "    startangle=90\n",
    ")\n",
    "plt.show()"
   ]
  },
  {
   "cell_type": "markdown",
   "id": "be3ae112",
   "metadata": {},
   "source": [
    "### All age groups analysis"
   ]
  },
  {
   "cell_type": "code",
   "execution_count": null,
   "id": "91b70af6",
   "metadata": {},
   "outputs": [],
   "source": [
    "data['Age'].value_counts().plot(\n",
    "    kind='bar',\n",
    "    legend=False,\n",
    "    ylabel='# of People',\n",
    "    xlabel='Age Groups'\n",
    ")\n",
    "plt.show()"
   ]
  },
  {
   "cell_type": "markdown",
   "id": "d1012edb",
   "metadata": {},
   "source": [
    "### The most liked music genre for each age group"
   ]
  },
  {
   "cell_type": "code",
   "execution_count": null,
   "id": "433c442e",
   "metadata": {},
   "outputs": [],
   "source": [
    "data.groupby('Age')['fav_music_genre'].value_counts(normalize=True).mul(100).round(2).astype(str) + '%'"
   ]
  },
  {
   "cell_type": "markdown",
   "id": "00265700",
   "metadata": {},
   "source": [
    "### Which age group is most willing to upgrade to Premium?"
   ]
  },
  {
   "cell_type": "code",
   "execution_count": null,
   "id": "5b0e075a",
   "metadata": {},
   "outputs": [],
   "source": [
    "willing_users = data[data['premium_sub_willingness'] == 'Yes']\n",
    "\n",
    "print(f'Shape: {willing_users.shape}')\n",
    "willing_users.head()"
   ]
  },
  {
   "cell_type": "code",
   "execution_count": null,
   "id": "06a27933",
   "metadata": {},
   "outputs": [],
   "source": [
    "willing_users['Age'].value_counts().plot(\n",
    "    kind='bar',\n",
    "    legend=False,\n",
    "    xlabel='Age Group',\n",
    "    ylabel='# of People',\n",
    "    title='Willingness to Subscribe by Its Age Group',\n",
    ")\n",
    "plt.show()"
   ]
  },
  {
   "cell_type": "code",
   "execution_count": null,
   "id": "926c20f9",
   "metadata": {},
   "outputs": [],
   "source": [
    "(willing_users['Age'].value_counts() / data['Age'].value_counts()).fillna(0).mul(100).round(2).astype(str) + '%'"
   ]
  },
  {
   "cell_type": "markdown",
   "id": "6b909692",
   "metadata": {},
   "source": [
    "### The most preffered Premium plan for willing users"
   ]
  },
  {
   "cell_type": "code",
   "execution_count": null,
   "id": "840df7ec",
   "metadata": {},
   "outputs": [],
   "source": [
    "plan_counts = willing_users['preffered_premium_plan'].value_counts()\n",
    "\n",
    "plan_counts"
   ]
  },
  {
   "cell_type": "code",
   "execution_count": null,
   "id": "4c89bba0",
   "metadata": {},
   "outputs": [],
   "source": [
    "plan_counts.plot(kind='bar', color='skyblue', title='Preffed Premium Plans')\n",
    "plt.xlabel('Plan Type')\n",
    "plt.ylabel('Number of Users')\n",
    "plt.tight_layout()\n",
    "plt.show()"
   ]
  },
  {
   "cell_type": "markdown",
   "id": "7bceee76",
   "metadata": {},
   "source": [
    "## 6. 📊 Show Key Distributions"
   ]
  },
  {
   "cell_type": "code",
   "execution_count": null,
   "id": "baac9e26",
   "metadata": {},
   "outputs": [],
   "source": [
    "# Music recommendation system rating\n",
    "sns.histplot(data['music_recc_rating'], bins=5, discrete=True)\n",
    "plt.title('Music Recommendation Rating Ditribution', fontsize=18)\n",
    "plt.xlabel('Rating (1 to 5)')\n",
    "plt.tight_layout()\n",
    "plt.show()"
   ]
  },
  {
   "cell_type": "code",
   "execution_count": null,
   "id": "c8d19c37",
   "metadata": {},
   "outputs": [],
   "source": [
    "# Usage time distribution\n",
    "sns.histplot(data['spotify_usage_period'], bins=4, discrete=True)\n",
    "plt.title('Spotify Usage Period Ditribution', fontsize=18)\n",
    "plt.xticks(rotation=55, fontsize=12)\n",
    "plt.xlabel('Usage Time')\n",
    "plt.tight_layout()\n",
    "plt.show()"
   ]
  },
  {
   "cell_type": "code",
   "execution_count": null,
   "id": "5029fec9",
   "metadata": {},
   "outputs": [],
   "source": [
    "# Favorite music distribution\n",
    "sns.histplot(data['fav_music_genre'], bins=11, discrete=True)\n",
    "plt.title('Music Genre Prefference Ditribution', fontsize=18)\n",
    "plt.xticks(rotation=65)\n",
    "plt.xlabel('Music Genre', fontsize=12)\n",
    "plt.tight_layout()\n",
    "plt.show()"
   ]
  },
  {
   "cell_type": "markdown",
   "id": "141670d0",
   "metadata": {},
   "source": [
    "## 7. 🔗 Find Correlations"
   ]
  },
  {
   "cell_type": "code",
   "execution_count": null,
   "id": "12ce62df",
   "metadata": {},
   "outputs": [],
   "source": [
    "# Encode all object types numerically for correlations\n",
    "df_encoded = data.copy()\n",
    "for col in df_encoded.columns:\n",
    "    if df_encoded[col].dtype == 'object':\n",
    "        df_encoded[col] = pd.factorize(df_encoded[col])[0]\n",
    "\n",
    "# Correlation heatmap\n",
    "plt.figure(figsize=(12, 8))\n",
    "sns.heatmap(df_encoded.corr(), annot=True, cmap='coolwarm')\n",
    "plt.title('Feature Correlation Heatmap')\n",
    "plt.show()"
   ]
  },
  {
   "cell_type": "markdown",
   "id": "d7112d93",
   "metadata": {},
   "source": [
    "## 8. 🔎 Spotting Outliers"
   ]
  },
  {
   "cell_type": "code",
   "execution_count": null,
   "id": "12ef47a1",
   "metadata": {},
   "outputs": [],
   "source": [
    "# Visualize outliers in numeric feature\n",
    "sns.boxplot(data=df_encoded[['music_recc_rating', 'pod_lis_frequency', 'music_lis_frequency']])\n",
    "plt.title('Outliers Check: music_recc_rating')\n",
    "plt.tight_layout()\n",
    "plt.show()"
   ]
  },
  {
   "cell_type": "code",
   "execution_count": null,
   "id": "a34d4c8b",
   "metadata": {},
   "outputs": [],
   "source": [
    "# Clean music_lis_frequency from poor text data by making multiple columns from multi-choice text\n",
    "listening_types = ['Office', 'Workout', 'Night', 'Travel', 'Leisure']\n",
    "\n",
    "for t in listening_types:\n",
    "    data[f'listens_{t.lower()}'] = data['music_lis_frequency'].str.contains(t, case=False)\n",
    "\n",
    "data.iloc[:, -5:]"
   ]
  },
  {
   "cell_type": "markdown",
   "id": "8e7d399f",
   "metadata": {},
   "source": [
    "## 9. 🧩 User Segmentation Using K-Means"
   ]
  },
  {
   "cell_type": "markdown",
   "id": "8be59020",
   "metadata": {},
   "source": [
    "### Select features"
   ]
  },
  {
   "cell_type": "code",
   "execution_count": null,
   "id": "cf259ab2",
   "metadata": {},
   "outputs": [],
   "source": [
    "# Select specific features\n",
    "cluster_features = [\n",
    "    'music_recc_rating',\n",
    "    'fav_music_genre',\n",
    "    'music_time_slot',\n",
    "    'music_lis_frequency',\n",
    "    'pod_lis_frequency',\n",
    "    'preferred_listening_content'\n",
    "]\n",
    "\n",
    "df_seg = data.copy()\n",
    "\n",
    "# Encode all string values in numerical representations\n",
    "for col in cluster_features:\n",
    "    if df_seg[col].dtype == 'object':\n",
    "        df_seg[col] = LabelEncoder().fit_transform(df_seg[col].astype(str))\n",
    "\n",
    "df_seg[cluster_features]"
   ]
  },
  {
   "cell_type": "markdown",
   "id": "1615222d",
   "metadata": {},
   "source": [
    "### Init and run K-Means"
   ]
  },
  {
   "cell_type": "code",
   "execution_count": null,
   "id": "2c407ab1",
   "metadata": {},
   "outputs": [],
   "source": [
    "# Run K-Means clustering\n",
    "X_seg = df_seg[cluster_features]\n",
    "kmeans = KMeans(n_clusters=4, random_state=42)\n",
    "df_seg['segment'] = kmeans.fit_predict(X_seg)\n",
    "\n",
    "# Analyze segments\n",
    "segment_summary = df_seg.groupby('segment')[cluster_features].mean()\n",
    "segment_summary"
   ]
  },
  {
   "cell_type": "markdown",
   "id": "7cf20fde",
   "metadata": {},
   "source": [
    "### Plot the results using t-SNE"
   ]
  },
  {
   "cell_type": "code",
   "execution_count": null,
   "id": "16032133",
   "metadata": {},
   "outputs": [],
   "source": [
    "# Visualize segments using t-SNE\n",
    "X_vis = df_seg[cluster_features]\n",
    "\n",
    "# Run t-SNE\n",
    "tsne = TSNE(n_components=2, random_state=42, perplexity=30)\n",
    "X_embedded = tsne.fit_transform(X_vis)\n",
    "\n",
    "# Add to dataframe\n",
    "df_seg['tsne_x'] = X_embedded[:, 0]\n",
    "df_seg['tsne_y'] = X_embedded[:, 1]\n",
    "\n",
    "# Plot it\n",
    "plt.figure(figsize=(10, 6))\n",
    "sns.scatterplot(data=df_seg, x='tsne_x', y='tsne_y', hue='segment', palette='tab10')\n",
    "plt.title(\"t-SNE: Spotify User Segments\")\n",
    "plt.xlabel(\"\")\n",
    "plt.ylabel(\"\")\n",
    "plt.grid(True)\n",
    "plt.show()"
   ]
  },
  {
   "cell_type": "markdown",
   "id": "a2fe3091",
   "metadata": {},
   "source": [
    "\n",
    "We can see that we have 4 strongly separated clusters of users, who have their own specific traits.\n",
    "\n",
    "We can see that segment 1 and 2 are very close to each other, which means they're really similar; however, they also have something not in common, which is enough for them to be separated. In addition, they have low variance, which indicates fixed and straightforward choices. Importantly, it tells us they have almost the same rating of recommendation system, time spent on Spotify, favorite genres, etc.\n",
    "\n",
    "Segment 0 is the farthest from 1 and 2, which tells us that these groups are almost the opposite when it comes to time spent on Spotify and other features. It also has the largest variance out of all segments, which indicates a wide variety of users in this segment. It is pretty hard to make any decisions from this point because the variance is really big. Maybe we will be able to increase the `n_clusters` in `KMeans` in order to get more clusters and maybe separate that giant segment into something more meaningful and insightful.\n",
    "\n",
    "Segment 3 is a liminal segment that acts as a transitional segment between the two segments on the left and the biggest one on the right. We can notice that some of this segment slightly translates into segment 0."
   ]
  },
  {
   "cell_type": "markdown",
   "id": "4478e74c",
   "metadata": {},
   "source": [
    "## 10. 🤖 Using ML models to Predict User Subscribtion Willingness"
   ]
  },
  {
   "cell_type": "markdown",
   "id": "4ff0b7bb",
   "metadata": {},
   "source": [
    "### Prepare the dataset"
   ]
  },
  {
   "cell_type": "code",
   "execution_count": null,
   "id": "9cf9519e",
   "metadata": {},
   "outputs": [],
   "source": [
    "# Prepare certain features for ML model\n",
    "features = [\n",
    "    'Age',\n",
    "    'Gender',\n",
    "    'fav_music_genre',\n",
    "    'music_time_slot',\n",
    "    'spotify_subscription_plan'\n",
    "]"
   ]
  },
  {
   "cell_type": "code",
   "execution_count": null,
   "id": "efea01dd",
   "metadata": {},
   "outputs": [],
   "source": [
    "# Encode categorical features for ML model\n",
    "df_ml = data.copy()\n",
    "for col in features:\n",
    "    df_ml[col] = LabelEncoder().fit_transform(df_ml[col])\n",
    "\n",
    "df_ml[features].head()"
   ]
  },
  {
   "cell_type": "code",
   "execution_count": null,
   "id": "3b0af203",
   "metadata": {},
   "outputs": [],
   "source": [
    "# Get features and target variable\n",
    "X = df_ml[features]\n",
    "y = data['premium_sub_willingness'].apply(lambda x: 1 if x == 'Yes' else 0)\n",
    "\n",
    "# Split the data into training and testing sets\n",
    "X_train, X_test, y_train, y_test = train_test_split(X, y, test_size=0.2, random_state=42)\n",
    "\n",
    "# Resample the training data to handle class imbalance using SMOTE\n",
    "smote = SMOTE(random_state=42)\n",
    "X_train_res, y_train_res = smote.fit_resample(X_train, y_train)"
   ]
  },
  {
   "cell_type": "markdown",
   "id": "b1e8660a",
   "metadata": {},
   "source": [
    "### Logistic Regression model"
   ]
  },
  {
   "cell_type": "code",
   "execution_count": null,
   "id": "9d06e4ec",
   "metadata": {},
   "outputs": [],
   "source": [
    "# Train and test the Logistic Regression model\n",
    "lr_model = LogisticRegression(random_state=42)\n",
    "lr_model.fit(X_train_res, y_train_res)\n",
    "predictions = lr_model.predict(X_test)\n",
    "\n",
    "# Print classification report for Logistic Regression\n",
    "print(classification_report(y_test, predictions))"
   ]
  },
  {
   "cell_type": "code",
   "execution_count": null,
   "id": "0ee93141",
   "metadata": {},
   "outputs": [],
   "source": [
    "features_weights = pd.DataFrame(lr_model.coef_[0], index=X.columns, columns=['Weight']).sort_values(by='Weight', ascending=False)\n",
    "features_weights['Adjusted Weight'] = features_weights['Weight'] + lr_model.intercept_[0]\n",
    "features_weights"
   ]
  },
  {
   "cell_type": "markdown",
   "id": "41557871",
   "metadata": {},
   "source": [
    "It shows the importance of **each feature** in predicting user subscription willingness. **Positive weights** indicate a **positive correlation** with willingness to subscribe *(approaches to YES)*, while **negative weights** indicates a **negative correlation** *(approaches to NO)*.\n",
    "\n",
    "So we can see that `spotify_subscription_plan` and `fav_music_genre` have the most significant impact on the **positive prediction** of user subscription willingness meaning that users who prefer certain music genres or subscription plans are **more likely to subscribe**, while `Age` has a negative impact, meaning that older users are **less likely to subscribe**."
   ]
  },
  {
   "cell_type": "markdown",
   "id": "cc580a6e",
   "metadata": {},
   "source": [
    "### Decision Tree model"
   ]
  },
  {
   "cell_type": "code",
   "execution_count": null,
   "id": "4874be7d",
   "metadata": {},
   "outputs": [],
   "source": [
    "# Train and test the Decision Tree model\n",
    "dt_model = DecisionTreeClassifier(max_depth=4, random_state=42)\n",
    "dt_model.fit(X_train_res, y_train_res)\n",
    "dt_predictions = dt_model.predict(X_test)\n",
    "\n",
    "# Print classification report for Decision Tree\n",
    "print(classification_report(y_test, dt_predictions))"
   ]
  },
  {
   "cell_type": "code",
   "execution_count": null,
   "id": "ba3b1811",
   "metadata": {},
   "outputs": [],
   "source": [
    "# Export the decision tree rules\n",
    "tree_rules = export_text(dt_model, feature_names=list(X.columns))\n",
    "\n",
    "print(tree_rules)"
   ]
  },
  {
   "cell_type": "code",
   "execution_count": null,
   "id": "40363c00",
   "metadata": {},
   "outputs": [],
   "source": [
    "plt.figure(figsize=(24, 10))\n",
    "plot_tree(dt_model, feature_names=X.columns, class_names=['No', 'Yes'], filled=True, rounded=True, fontsize=11)\n",
    "plt.title(\"Decision Tree Visualization\")\n",
    "plt.show()"
   ]
  }
 ],
 "metadata": {
  "kernelspec": {
   "display_name": "da_env",
   "language": "python",
   "name": "python3"
  },
  "language_info": {
   "codemirror_mode": {
    "name": "ipython",
    "version": 3
   },
   "file_extension": ".py",
   "mimetype": "text/x-python",
   "name": "python",
   "nbconvert_exporter": "python",
   "pygments_lexer": "ipython3",
   "version": "3.10.12"
  }
 },
 "nbformat": 4,
 "nbformat_minor": 5
}
